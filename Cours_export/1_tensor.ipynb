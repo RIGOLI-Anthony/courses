{
 "cells": [
  {
   "attachments": {},
   "cell_type": "markdown",
   "metadata": {},
   "source": [
    "# Introduction à PyTorch : Tensor\n",
    "\n",
    "C'est le premier cours sur PyTorch avec l'utilisation de la structure de donnée utilisée par PyTorch, les tensors.\n",
    "\n",
    "Les tensors sont de simples tableaux à n dimensions. Leur seule différence avec ces simples tableaux est que les tensors sont adaptés à tourner sur GPU ou CPU, ce qui améliore dans le cas du GPU grandement les performances du code (même plus que grandement en réalité, on gagne un temps très précieux).\n",
    "\n",
    "Voyons alors la syntaxe :"
   ]
  },
  {
   "cell_type": "code",
   "execution_count": 1,
   "metadata": {},
   "outputs": [
    {
     "name": "stdout",
     "output_type": "stream",
     "text": [
      "tensor([1, 2, 3, 4])\n"
     ]
    }
   ],
   "source": [
    "import torch"
   ]
  },
  {
   "cell_type": "code",
   "execution_count": 4,
   "metadata": {},
   "outputs": [
    {
     "name": "stdout",
     "output_type": "stream",
     "text": [
      "tensor([1, 2, 3, 4])\n",
      "tensor([[1, 2, 3, 4],\n",
      "        [5, 6, 7, 8]])\n",
      "tensor([[[1, 2, 3, 4],\n",
      "         [5, 6, 7, 8]],\n",
      "\n",
      "        [[1, 2, 3, 4],\n",
      "         [5, 6, 7, 8]]])\n"
     ]
    }
   ],
   "source": [
    "x = torch.tensor([1, 2, 3, 4]) # 1D tensor\n",
    "print(x)\n",
    "\n",
    "x = torch.tensor([[1, 2, 3, 4], [5, 6, 7, 8]]) # 2D tensor\n",
    "print(x)\n",
    "\n",
    "x = torch.tensor([ [[1, 2, 3, 4], [5, 6, 7, 8]], [[9, 10, 11, 12], [13, 14, 15, 16]] ]) # 3D tensor\n",
    "print(x)"
   ]
  }
 ],
 "metadata": {
  "kernelspec": {
   "display_name": "base",
   "language": "python",
   "name": "python3"
  },
  "language_info": {
   "codemirror_mode": {
    "name": "ipython",
    "version": 3
   },
   "file_extension": ".py",
   "mimetype": "text/x-python",
   "name": "python",
   "nbconvert_exporter": "python",
   "pygments_lexer": "ipython3",
   "version": "3.9.13"
  },
  "orig_nbformat": 4
 },
 "nbformat": 4,
 "nbformat_minor": 2
}
